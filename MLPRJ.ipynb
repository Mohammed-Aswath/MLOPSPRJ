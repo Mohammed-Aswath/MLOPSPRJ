{
 "cells": [
  {
   "cell_type": "markdown",
   "id": "d1a3d0cf",
   "metadata": {},
   "source": [
    "# Problem Definition\n",
    "This project aims to recommend a suitable crop to grow based on environmental conditions like nitrogen, phosphorous, potassium, temperature, humidity, pH, and rainfall.\n"
   ]
  },
  {
   "cell_type": "code",
   "execution_count": 3,
   "id": "0a7ddda5",
   "metadata": {},
   "outputs": [],
   "source": [
    "import pandas as pd\n",
    "from sklearn.preprocessing import LabelEncoder\n",
    "\n",
    "df = pd.read_csv('data/1752637796309_Crop_recommendation.csv')\n",
    "\n",
    "# Check for nulls\n",
    "assert df.isnull().sum().sum() == 0\n",
    "\n",
    "# Encode label\n",
    "le = LabelEncoder()\n",
    "df['label'] = le.fit_transform(df['label'])\n",
    "\n",
    "df.to_csv('data/processed_crop.csv', index=False)\n"
   ]
  },
  {
   "cell_type": "code",
   "execution_count": null,
   "id": "519c5736",
   "metadata": {},
   "outputs": [],
   "source": []
  }
 ],
 "metadata": {
  "kernelspec": {
   "display_name": "Python 3",
   "language": "python",
   "name": "python3"
  },
  "language_info": {
   "codemirror_mode": {
    "name": "ipython",
    "version": 3
   },
   "file_extension": ".py",
   "mimetype": "text/x-python",
   "name": "python",
   "nbconvert_exporter": "python",
   "pygments_lexer": "ipython3",
   "version": "3.13.5"
  }
 },
 "nbformat": 4,
 "nbformat_minor": 5
}
