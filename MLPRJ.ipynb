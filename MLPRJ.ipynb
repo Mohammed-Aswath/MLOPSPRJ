{
 "cells": [
  {
   "cell_type": "markdown",
   "id": "d1a3d0cf",
   "metadata": {},
   "source": [
    "# Problem Definition\n",
    "This project aims to recommend a suitable crop to grow based on environmental conditions like nitrogen, phosphorous, potassium, temperature, humidity, pH, and rainfall.\n"
   ]
  },
  {
   "cell_type": "code",
   "execution_count": null,
   "id": "0a7ddda5",
   "metadata": {},
   "outputs": [],
   "source": [
    "!git init\n",
    "!git add .\n",
    "!git commit -m \"Initial commit\"\n",
    "!git branch -M main\n",
    "!git remote add origin https://github.com/Mohammed-Aswath/MLOPSPRJ.git\n",
    "!git push -u origin main\n"
   ]
  },
  {
   "cell_type": "code",
   "execution_count": null,
   "id": "519c5736",
   "metadata": {},
   "outputs": [],
   "source": []
  }
 ],
 "metadata": {
  "kernelspec": {
   "display_name": "Python 3",
   "language": "python",
   "name": "python3"
  },
  "language_info": {
   "name": "python",
   "version": "3.13.5"
  }
 },
 "nbformat": 4,
 "nbformat_minor": 5
}
