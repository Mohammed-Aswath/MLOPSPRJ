{
 "cells": [
  {
   "cell_type": "markdown",
   "id": "d1a3d0cf",
   "metadata": {},
   "source": [
    "# Problem Definition\n",
    "This project aims to recommend a suitable crop to grow based on environmental conditions like nitrogen, phosphorous, potassium, temperature, humidity, pH, and rainfall.\n"
   ]
  },
  {
   "cell_type": "code",
   "execution_count": null,
   "id": "0a7ddda5",
   "metadata": {},
   "outputs": [
    {
     "name": "stdout",
     "output_type": "stream",
     "text": [
      "Initialized empty Git repository in E:/MLOPSTaskPrj/.git/\n"
     ]
    },
    {
     "name": "stderr",
     "output_type": "stream",
     "text": [
      "warning: in the working copy of 'MLPRJ.ipynb', LF will be replaced by CRLF the next time Git touches it\n"
     ]
    },
    {
     "name": "stdout",
     "output_type": "stream",
     "text": [
      "[master (root-commit) 803167e] Initial commit\n",
      " 1 file changed, 49 insertions(+)\n",
      " create mode 100644 MLPRJ.ipynb\n",
      "branch 'main' set up to track 'origin/main'.\n"
     ]
    },
    {
     "name": "stderr",
     "output_type": "stream",
     "text": [
      "To https://github.com/Mohammed-Aswath/MLOPSPRJ.git\n",
      " * [new branch]      main -> main\n"
     ]
    }
   ],
   "source": []
  },
  {
   "cell_type": "code",
   "execution_count": null,
   "id": "519c5736",
   "metadata": {},
   "outputs": [],
   "source": []
  }
 ],
 "metadata": {
  "kernelspec": {
   "display_name": "Python 3",
   "language": "python",
   "name": "python3"
  },
  "language_info": {
   "codemirror_mode": {
    "name": "ipython",
    "version": 3
   },
   "file_extension": ".py",
   "mimetype": "text/x-python",
   "name": "python",
   "nbconvert_exporter": "python",
   "pygments_lexer": "ipython3",
   "version": "3.13.5"
  }
 },
 "nbformat": 4,
 "nbformat_minor": 5
}
