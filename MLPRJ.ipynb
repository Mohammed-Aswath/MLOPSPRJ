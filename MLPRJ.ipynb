{
 "cells": [
  {
   "cell_type": "markdown",
   "id": "d1a3d0cf",
   "metadata": {},
   "source": [
    "# Problem Definition\n",
    "This project aims to recommend a suitable crop to grow based on environmental conditions like nitrogen, phosphorous, potassium, temperature, humidity, pH, and rainfall.\n"
   ]
  },
  {
   "cell_type": "code",
   "execution_count": 5,
   "id": "ade93d2b",
   "metadata": {},
   "outputs": [
    {
     "name": "stdout",
     "output_type": "stream",
     "text": [
      "Collecting mlflow\n",
      "  Downloading mlflow-3.1.1-py3-none-any.whl.metadata (29 kB)\n",
      "Collecting mlflow-skinny==3.1.1 (from mlflow)\n",
      "  Downloading mlflow_skinny-3.1.1-py3-none-any.whl.metadata (30 kB)\n",
      "Collecting Flask<4 (from mlflow)\n",
      "  Downloading flask-3.1.1-py3-none-any.whl.metadata (3.0 kB)\n",
      "Collecting alembic!=1.10.0,<2 (from mlflow)\n",
      "  Downloading alembic-1.16.4-py3-none-any.whl.metadata (7.3 kB)\n",
      "Collecting docker<8,>=4.0.0 (from mlflow)\n",
      "  Downloading docker-7.1.0-py3-none-any.whl.metadata (3.8 kB)\n",
      "Collecting graphene<4 (from mlflow)\n",
      "  Downloading graphene-3.4.3-py2.py3-none-any.whl.metadata (6.9 kB)\n",
      "Requirement already satisfied: matplotlib<4 in c:\\users\\aswat\\appdata\\local\\programs\\python\\python313\\lib\\site-packages (from mlflow) (3.10.3)\n",
      "Requirement already satisfied: numpy<3 in c:\\users\\aswat\\appdata\\local\\programs\\python\\python313\\lib\\site-packages (from mlflow) (2.3.1)\n",
      "Requirement already satisfied: pandas<3 in c:\\users\\aswat\\appdata\\local\\programs\\python\\python313\\lib\\site-packages (from mlflow) (2.3.1)\n",
      "Requirement already satisfied: pyarrow<21,>=4.0.0 in c:\\users\\aswat\\appdata\\local\\programs\\python\\python313\\lib\\site-packages (from mlflow) (20.0.0)\n",
      "Requirement already satisfied: scikit-learn<2 in c:\\users\\aswat\\appdata\\local\\programs\\python\\python313\\lib\\site-packages (from mlflow) (1.7.0)\n",
      "Requirement already satisfied: scipy<2 in c:\\users\\aswat\\appdata\\local\\programs\\python\\python313\\lib\\site-packages (from mlflow) (1.16.0)\n",
      "Collecting sqlalchemy<3,>=1.4.0 (from mlflow)\n",
      "  Downloading sqlalchemy-2.0.41-cp313-cp313-win_amd64.whl.metadata (9.8 kB)\n",
      "Collecting waitress<4 (from mlflow)\n",
      "  Downloading waitress-3.0.2-py3-none-any.whl.metadata (5.8 kB)\n",
      "Requirement already satisfied: cachetools<7,>=5.0.0 in c:\\users\\aswat\\appdata\\local\\programs\\python\\python313\\lib\\site-packages (from mlflow-skinny==3.1.1->mlflow) (6.1.0)\n",
      "Requirement already satisfied: click<9,>=7.0 in c:\\users\\aswat\\appdata\\local\\programs\\python\\python313\\lib\\site-packages (from mlflow-skinny==3.1.1->mlflow) (8.2.1)\n",
      "Collecting cloudpickle<4 (from mlflow-skinny==3.1.1->mlflow)\n",
      "  Downloading cloudpickle-3.1.1-py3-none-any.whl.metadata (7.1 kB)\n",
      "Collecting databricks-sdk<1,>=0.20.0 (from mlflow-skinny==3.1.1->mlflow)\n",
      "  Downloading databricks_sdk-0.58.0-py3-none-any.whl.metadata (39 kB)\n",
      "Requirement already satisfied: fastapi<1 in c:\\users\\aswat\\appdata\\local\\programs\\python\\python313\\lib\\site-packages (from mlflow-skinny==3.1.1->mlflow) (0.116.1)\n",
      "Requirement already satisfied: gitpython<4,>=3.1.9 in c:\\users\\aswat\\appdata\\local\\programs\\python\\python313\\lib\\site-packages (from mlflow-skinny==3.1.1->mlflow) (3.1.44)\n",
      "Collecting importlib_metadata!=4.7.0,<9,>=3.7.0 (from mlflow-skinny==3.1.1->mlflow)\n",
      "  Downloading importlib_metadata-8.7.0-py3-none-any.whl.metadata (4.8 kB)\n",
      "Collecting opentelemetry-api<3,>=1.9.0 (from mlflow-skinny==3.1.1->mlflow)\n",
      "  Downloading opentelemetry_api-1.35.0-py3-none-any.whl.metadata (1.5 kB)\n",
      "Collecting opentelemetry-sdk<3,>=1.9.0 (from mlflow-skinny==3.1.1->mlflow)\n",
      "  Downloading opentelemetry_sdk-1.35.0-py3-none-any.whl.metadata (1.5 kB)\n",
      "Requirement already satisfied: packaging<26 in c:\\users\\aswat\\appdata\\roaming\\python\\python313\\site-packages (from mlflow-skinny==3.1.1->mlflow) (25.0)\n",
      "Requirement already satisfied: protobuf<7,>=3.12.0 in c:\\users\\aswat\\appdata\\local\\programs\\python\\python313\\lib\\site-packages (from mlflow-skinny==3.1.1->mlflow) (6.31.1)\n",
      "Requirement already satisfied: pydantic<3,>=1.10.8 in c:\\users\\aswat\\appdata\\local\\programs\\python\\python313\\lib\\site-packages (from mlflow-skinny==3.1.1->mlflow) (2.11.7)\n",
      "Requirement already satisfied: pyyaml<7,>=5.1 in c:\\users\\aswat\\appdata\\local\\programs\\python\\python313\\lib\\site-packages (from mlflow-skinny==3.1.1->mlflow) (6.0.2)\n",
      "Requirement already satisfied: requests<3,>=2.17.3 in c:\\users\\aswat\\appdata\\local\\programs\\python\\python313\\lib\\site-packages (from mlflow-skinny==3.1.1->mlflow) (2.32.4)\n",
      "Collecting sqlparse<1,>=0.4.0 (from mlflow-skinny==3.1.1->mlflow)\n",
      "  Downloading sqlparse-0.5.3-py3-none-any.whl.metadata (3.9 kB)\n",
      "Requirement already satisfied: typing-extensions<5,>=4.0.0 in c:\\users\\aswat\\appdata\\local\\programs\\python\\python313\\lib\\site-packages (from mlflow-skinny==3.1.1->mlflow) (4.14.1)\n",
      "Requirement already satisfied: uvicorn<1 in c:\\users\\aswat\\appdata\\local\\programs\\python\\python313\\lib\\site-packages (from mlflow-skinny==3.1.1->mlflow) (0.35.0)\n",
      "Collecting Mako (from alembic!=1.10.0,<2->mlflow)\n",
      "  Downloading mako-1.3.10-py3-none-any.whl.metadata (2.9 kB)\n",
      "Requirement already satisfied: colorama in c:\\users\\aswat\\appdata\\roaming\\python\\python313\\site-packages (from click<9,>=7.0->mlflow-skinny==3.1.1->mlflow) (0.4.6)\n",
      "Collecting google-auth~=2.0 (from databricks-sdk<1,>=0.20.0->mlflow-skinny==3.1.1->mlflow)\n",
      "  Downloading google_auth-2.40.3-py2.py3-none-any.whl.metadata (6.2 kB)\n",
      "Requirement already satisfied: pywin32>=304 in c:\\users\\aswat\\appdata\\roaming\\python\\python313\\site-packages (from docker<8,>=4.0.0->mlflow) (310)\n",
      "Requirement already satisfied: urllib3>=1.26.0 in c:\\users\\aswat\\appdata\\local\\programs\\python\\python313\\lib\\site-packages (from docker<8,>=4.0.0->mlflow) (2.5.0)\n",
      "Requirement already satisfied: starlette<0.48.0,>=0.40.0 in c:\\users\\aswat\\appdata\\local\\programs\\python\\python313\\lib\\site-packages (from fastapi<1->mlflow-skinny==3.1.1->mlflow) (0.47.1)\n",
      "Requirement already satisfied: blinker>=1.9.0 in c:\\users\\aswat\\appdata\\local\\programs\\python\\python313\\lib\\site-packages (from Flask<4->mlflow) (1.9.0)\n",
      "Collecting itsdangerous>=2.2.0 (from Flask<4->mlflow)\n",
      "  Downloading itsdangerous-2.2.0-py3-none-any.whl.metadata (1.9 kB)\n",
      "Requirement already satisfied: jinja2>=3.1.2 in c:\\users\\aswat\\appdata\\local\\programs\\python\\python313\\lib\\site-packages (from Flask<4->mlflow) (3.1.6)\n",
      "Requirement already satisfied: markupsafe>=2.1.1 in c:\\users\\aswat\\appdata\\local\\programs\\python\\python313\\lib\\site-packages (from Flask<4->mlflow) (3.0.2)\n",
      "Collecting werkzeug>=3.1.0 (from Flask<4->mlflow)\n",
      "  Downloading werkzeug-3.1.3-py3-none-any.whl.metadata (3.7 kB)\n",
      "Requirement already satisfied: gitdb<5,>=4.0.1 in c:\\users\\aswat\\appdata\\local\\programs\\python\\python313\\lib\\site-packages (from gitpython<4,>=3.1.9->mlflow-skinny==3.1.1->mlflow) (4.0.12)\n",
      "Requirement already satisfied: smmap<6,>=3.0.1 in c:\\users\\aswat\\appdata\\local\\programs\\python\\python313\\lib\\site-packages (from gitdb<5,>=4.0.1->gitpython<4,>=3.1.9->mlflow-skinny==3.1.1->mlflow) (5.0.2)\n",
      "Collecting cachetools<7,>=5.0.0 (from mlflow-skinny==3.1.1->mlflow)\n",
      "  Downloading cachetools-5.5.2-py3-none-any.whl.metadata (5.4 kB)\n",
      "Collecting pyasn1-modules>=0.2.1 (from google-auth~=2.0->databricks-sdk<1,>=0.20.0->mlflow-skinny==3.1.1->mlflow)\n",
      "  Downloading pyasn1_modules-0.4.2-py3-none-any.whl.metadata (3.5 kB)\n",
      "Collecting rsa<5,>=3.1.4 (from google-auth~=2.0->databricks-sdk<1,>=0.20.0->mlflow-skinny==3.1.1->mlflow)\n",
      "  Downloading rsa-4.9.1-py3-none-any.whl.metadata (5.6 kB)\n",
      "Collecting graphql-core<3.3,>=3.1 (from graphene<4->mlflow)\n",
      "  Downloading graphql_core-3.2.6-py3-none-any.whl.metadata (11 kB)\n",
      "Collecting graphql-relay<3.3,>=3.1 (from graphene<4->mlflow)\n",
      "  Downloading graphql_relay-3.2.0-py3-none-any.whl.metadata (12 kB)\n",
      "Requirement already satisfied: python-dateutil<3,>=2.7.0 in c:\\users\\aswat\\appdata\\roaming\\python\\python313\\site-packages (from graphene<4->mlflow) (2.9.0.post0)\n",
      "Collecting zipp>=3.20 (from importlib_metadata!=4.7.0,<9,>=3.7.0->mlflow-skinny==3.1.1->mlflow)\n",
      "  Downloading zipp-3.23.0-py3-none-any.whl.metadata (3.6 kB)\n",
      "Requirement already satisfied: contourpy>=1.0.1 in c:\\users\\aswat\\appdata\\local\\programs\\python\\python313\\lib\\site-packages (from matplotlib<4->mlflow) (1.3.2)\n",
      "Requirement already satisfied: cycler>=0.10 in c:\\users\\aswat\\appdata\\local\\programs\\python\\python313\\lib\\site-packages (from matplotlib<4->mlflow) (0.12.1)\n",
      "Requirement already satisfied: fonttools>=4.22.0 in c:\\users\\aswat\\appdata\\local\\programs\\python\\python313\\lib\\site-packages (from matplotlib<4->mlflow) (4.58.5)\n",
      "Requirement already satisfied: kiwisolver>=1.3.1 in c:\\users\\aswat\\appdata\\local\\programs\\python\\python313\\lib\\site-packages (from matplotlib<4->mlflow) (1.4.8)\n",
      "Requirement already satisfied: pillow>=8 in c:\\users\\aswat\\appdata\\local\\programs\\python\\python313\\lib\\site-packages (from matplotlib<4->mlflow) (11.3.0)\n",
      "Requirement already satisfied: pyparsing>=2.3.1 in c:\\users\\aswat\\appdata\\local\\programs\\python\\python313\\lib\\site-packages (from matplotlib<4->mlflow) (3.2.3)\n",
      "Collecting opentelemetry-semantic-conventions==0.56b0 (from opentelemetry-sdk<3,>=1.9.0->mlflow-skinny==3.1.1->mlflow)\n",
      "  Downloading opentelemetry_semantic_conventions-0.56b0-py3-none-any.whl.metadata (2.4 kB)\n",
      "Requirement already satisfied: pytz>=2020.1 in c:\\users\\aswat\\appdata\\local\\programs\\python\\python313\\lib\\site-packages (from pandas<3->mlflow) (2025.2)\n",
      "Requirement already satisfied: tzdata>=2022.7 in c:\\users\\aswat\\appdata\\local\\programs\\python\\python313\\lib\\site-packages (from pandas<3->mlflow) (2025.2)\n",
      "Requirement already satisfied: annotated-types>=0.6.0 in c:\\users\\aswat\\appdata\\local\\programs\\python\\python313\\lib\\site-packages (from pydantic<3,>=1.10.8->mlflow-skinny==3.1.1->mlflow) (0.7.0)\n",
      "Requirement already satisfied: pydantic-core==2.33.2 in c:\\users\\aswat\\appdata\\local\\programs\\python\\python313\\lib\\site-packages (from pydantic<3,>=1.10.8->mlflow-skinny==3.1.1->mlflow) (2.33.2)\n",
      "Requirement already satisfied: typing-inspection>=0.4.0 in c:\\users\\aswat\\appdata\\local\\programs\\python\\python313\\lib\\site-packages (from pydantic<3,>=1.10.8->mlflow-skinny==3.1.1->mlflow) (0.4.1)\n",
      "Requirement already satisfied: six>=1.5 in c:\\users\\aswat\\appdata\\roaming\\python\\python313\\site-packages (from python-dateutil<3,>=2.7.0->graphene<4->mlflow) (1.17.0)\n",
      "Requirement already satisfied: charset_normalizer<4,>=2 in c:\\users\\aswat\\appdata\\local\\programs\\python\\python313\\lib\\site-packages (from requests<3,>=2.17.3->mlflow-skinny==3.1.1->mlflow) (3.4.2)\n",
      "Requirement already satisfied: idna<4,>=2.5 in c:\\users\\aswat\\appdata\\local\\programs\\python\\python313\\lib\\site-packages (from requests<3,>=2.17.3->mlflow-skinny==3.1.1->mlflow) (3.10)\n",
      "Requirement already satisfied: certifi>=2017.4.17 in c:\\users\\aswat\\appdata\\local\\programs\\python\\python313\\lib\\site-packages (from requests<3,>=2.17.3->mlflow-skinny==3.1.1->mlflow) (2025.7.9)\n",
      "Collecting pyasn1>=0.1.3 (from rsa<5,>=3.1.4->google-auth~=2.0->databricks-sdk<1,>=0.20.0->mlflow-skinny==3.1.1->mlflow)\n",
      "  Downloading pyasn1-0.6.1-py3-none-any.whl.metadata (8.4 kB)\n",
      "Requirement already satisfied: joblib>=1.2.0 in c:\\users\\aswat\\appdata\\local\\programs\\python\\python313\\lib\\site-packages (from scikit-learn<2->mlflow) (1.5.1)\n",
      "Requirement already satisfied: threadpoolctl>=3.1.0 in c:\\users\\aswat\\appdata\\local\\programs\\python\\python313\\lib\\site-packages (from scikit-learn<2->mlflow) (3.6.0)\n",
      "Collecting greenlet>=1 (from sqlalchemy<3,>=1.4.0->mlflow)\n",
      "  Downloading greenlet-3.2.3-cp313-cp313-win_amd64.whl.metadata (4.2 kB)\n",
      "Requirement already satisfied: anyio<5,>=3.6.2 in c:\\users\\aswat\\appdata\\local\\programs\\python\\python313\\lib\\site-packages (from starlette<0.48.0,>=0.40.0->fastapi<1->mlflow-skinny==3.1.1->mlflow) (4.9.0)\n",
      "Requirement already satisfied: sniffio>=1.1 in c:\\users\\aswat\\appdata\\local\\programs\\python\\python313\\lib\\site-packages (from anyio<5,>=3.6.2->starlette<0.48.0,>=0.40.0->fastapi<1->mlflow-skinny==3.1.1->mlflow) (1.3.1)\n",
      "Requirement already satisfied: h11>=0.8 in c:\\users\\aswat\\appdata\\local\\programs\\python\\python313\\lib\\site-packages (from uvicorn<1->mlflow-skinny==3.1.1->mlflow) (0.16.0)\n",
      "Downloading mlflow-3.1.1-py3-none-any.whl (24.7 MB)\n",
      "   ---------------------------------------- 0.0/24.7 MB ? eta -:--:--\n",
      "   -- ------------------------------------- 1.6/24.7 MB 9.7 MB/s eta 0:00:03\n",
      "   ------ --------------------------------- 3.9/24.7 MB 10.6 MB/s eta 0:00:02\n",
      "   ---------- ----------------------------- 6.3/24.7 MB 10.6 MB/s eta 0:00:02\n",
      "   -------------- ------------------------- 8.7/24.7 MB 10.7 MB/s eta 0:00:02\n",
      "   ----------------- ---------------------- 11.0/24.7 MB 10.9 MB/s eta 0:00:02\n",
      "   --------------------- ------------------ 13.4/24.7 MB 11.0 MB/s eta 0:00:02\n",
      "   ------------------------- -------------- 15.7/24.7 MB 11.1 MB/s eta 0:00:01\n",
      "   ----------------------------- ---------- 18.4/24.7 MB 11.2 MB/s eta 0:00:01\n",
      "   --------------------------------- ------ 20.4/24.7 MB 11.2 MB/s eta 0:00:01\n",
      "   ------------------------------------ --- 22.8/24.7 MB 11.2 MB/s eta 0:00:01\n",
      "   ---------------------------------------  24.6/24.7 MB 11.2 MB/s eta 0:00:01\n",
      "   ---------------------------------------- 24.7/24.7 MB 10.8 MB/s eta 0:00:00\n",
      "Downloading mlflow_skinny-3.1.1-py3-none-any.whl (1.9 MB)\n",
      "   ---------------------------------------- 0.0/1.9 MB ? eta -:--:--\n",
      "   ---------------------------------------- 1.9/1.9 MB 9.9 MB/s eta 0:00:00\n",
      "Downloading alembic-1.16.4-py3-none-any.whl (247 kB)\n",
      "Downloading cloudpickle-3.1.1-py3-none-any.whl (20 kB)\n",
      "Downloading databricks_sdk-0.58.0-py3-none-any.whl (741 kB)\n",
      "   ---------------------------------------- 0.0/741.4 kB ? eta -:--:--\n",
      "   ---------------------------------------- 741.4/741.4 kB 7.2 MB/s eta 0:00:00\n",
      "Downloading docker-7.1.0-py3-none-any.whl (147 kB)\n",
      "Downloading flask-3.1.1-py3-none-any.whl (103 kB)\n",
      "Downloading google_auth-2.40.3-py2.py3-none-any.whl (216 kB)\n",
      "Downloading cachetools-5.5.2-py3-none-any.whl (10 kB)\n",
      "Downloading graphene-3.4.3-py2.py3-none-any.whl (114 kB)\n",
      "Downloading graphql_core-3.2.6-py3-none-any.whl (203 kB)\n",
      "Downloading graphql_relay-3.2.0-py3-none-any.whl (16 kB)\n",
      "Downloading importlib_metadata-8.7.0-py3-none-any.whl (27 kB)\n",
      "Downloading opentelemetry_api-1.35.0-py3-none-any.whl (65 kB)\n",
      "Downloading opentelemetry_sdk-1.35.0-py3-none-any.whl (119 kB)\n",
      "Downloading opentelemetry_semantic_conventions-0.56b0-py3-none-any.whl (201 kB)\n",
      "Downloading rsa-4.9.1-py3-none-any.whl (34 kB)\n",
      "Downloading sqlalchemy-2.0.41-cp313-cp313-win_amd64.whl (2.1 MB)\n",
      "   ---------------------------------------- 0.0/2.1 MB ? eta -:--:--\n",
      "   ---------------------------------------  2.1/2.1 MB 11.1 MB/s eta 0:00:01\n",
      "   ---------------------------------------- 2.1/2.1 MB 10.3 MB/s eta 0:00:00\n",
      "Downloading sqlparse-0.5.3-py3-none-any.whl (44 kB)\n",
      "Downloading waitress-3.0.2-py3-none-any.whl (56 kB)\n",
      "Downloading greenlet-3.2.3-cp313-cp313-win_amd64.whl (297 kB)\n",
      "Downloading itsdangerous-2.2.0-py3-none-any.whl (16 kB)\n",
      "Downloading pyasn1-0.6.1-py3-none-any.whl (83 kB)\n",
      "Downloading pyasn1_modules-0.4.2-py3-none-any.whl (181 kB)\n",
      "Downloading werkzeug-3.1.3-py3-none-any.whl (224 kB)\n",
      "Downloading zipp-3.23.0-py3-none-any.whl (10 kB)\n",
      "Downloading mako-1.3.10-py3-none-any.whl (78 kB)\n",
      "Installing collected packages: zipp, werkzeug, waitress, sqlparse, pyasn1, Mako, itsdangerous, greenlet, graphql-core, cloudpickle, cachetools, sqlalchemy, rsa, pyasn1-modules, importlib_metadata, graphql-relay, Flask, docker, opentelemetry-api, graphene, google-auth, alembic, opentelemetry-semantic-conventions, databricks-sdk, opentelemetry-sdk, mlflow-skinny, mlflow\n",
      "\n",
      "   - --------------------------------------  1/27 [werkzeug]\n",
      "   - --------------------------------------  1/27 [werkzeug]\n",
      "   - --------------------------------------  1/27 [werkzeug]\n",
      "   - --------------------------------------  1/27 [werkzeug]\n",
      "   - --------------------------------------  1/27 [werkzeug]\n",
      "   - --------------------------------------  1/27 [werkzeug]\n",
      "   - --------------------------------------  1/27 [werkzeug]\n",
      "   -- -------------------------------------  2/27 [waitress]\n",
      "   -- -------------------------------------  2/27 [waitress]\n",
      "   -- -------------------------------------  2/27 [waitress]\n",
      "   ---- -----------------------------------  3/27 [sqlparse]\n",
      "   ---- -----------------------------------  3/27 [sqlparse]\n",
      "   ---- -----------------------------------  3/27 [sqlparse]\n",
      "   ----- ----------------------------------  4/27 [pyasn1]\n",
      "   ----- ----------------------------------  4/27 [pyasn1]\n",
      "   ----- ----------------------------------  4/27 [pyasn1]\n",
      "   ----- ----------------------------------  4/27 [pyasn1]\n",
      "   ----- ----------------------------------  4/27 [pyasn1]\n",
      "   ------- --------------------------------  5/27 [Mako]\n",
      "   ------- --------------------------------  5/27 [Mako]\n",
      "   ------- --------------------------------  5/27 [Mako]\n",
      "   ------- --------------------------------  5/27 [Mako]\n",
      "   -------- -------------------------------  6/27 [itsdangerous]\n",
      "   ---------- -----------------------------  7/27 [greenlet]\n",
      "   ---------- -----------------------------  7/27 [greenlet]\n",
      "   ---------- -----------------------------  7/27 [greenlet]\n",
      "   ---------- -----------------------------  7/27 [greenlet]\n",
      "   ----------- ----------------------------  8/27 [graphql-core]\n",
      "   ----------- ----------------------------  8/27 [graphql-core]\n",
      "   ----------- ----------------------------  8/27 [graphql-core]\n",
      "   ----------- ----------------------------  8/27 [graphql-core]\n",
      "   ----------- ----------------------------  8/27 [graphql-core]\n",
      "   ----------- ----------------------------  8/27 [graphql-core]\n",
      "   ----------- ----------------------------  8/27 [graphql-core]\n",
      "   ----------- ----------------------------  8/27 [graphql-core]\n",
      "   ----------- ----------------------------  8/27 [graphql-core]\n",
      "   ----------- ----------------------------  8/27 [graphql-core]\n",
      "   ----------- ----------------------------  8/27 [graphql-core]\n",
      "   ----------- ----------------------------  8/27 [graphql-core]\n",
      "   ----------- ----------------------------  8/27 [graphql-core]\n",
      "   ------------- --------------------------  9/27 [cloudpickle]\n",
      "  Attempting uninstall: cachetools\n",
      "   ------------- --------------------------  9/27 [cloudpickle]\n",
      "    Found existing installation: cachetools 6.1.0\n",
      "   ------------- --------------------------  9/27 [cloudpickle]\n",
      "    Uninstalling cachetools-6.1.0:\n",
      "   ------------- --------------------------  9/27 [cloudpickle]\n",
      "      Successfully uninstalled cachetools-6.1.0\n",
      "   ------------- --------------------------  9/27 [cloudpickle]\n",
      "   -------------- ------------------------- 10/27 [cachetools]\n",
      "   ---------------- ----------------------- 11/27 [sqlalchemy]\n",
      "   ---------------- ----------------------- 11/27 [sqlalchemy]\n",
      "   ---------------- ----------------------- 11/27 [sqlalchemy]\n",
      "   ---------------- ----------------------- 11/27 [sqlalchemy]\n",
      "   ---------------- ----------------------- 11/27 [sqlalchemy]\n",
      "   ---------------- ----------------------- 11/27 [sqlalchemy]\n",
      "   ---------------- ----------------------- 11/27 [sqlalchemy]\n",
      "   ---------------- ----------------------- 11/27 [sqlalchemy]\n",
      "   ---------------- ----------------------- 11/27 [sqlalchemy]\n",
      "   ---------------- ----------------------- 11/27 [sqlalchemy]\n",
      "   ---------------- ----------------------- 11/27 [sqlalchemy]\n",
      "   ---------------- ----------------------- 11/27 [sqlalchemy]\n",
      "   ---------------- ----------------------- 11/27 [sqlalchemy]\n",
      "   ---------------- ----------------------- 11/27 [sqlalchemy]\n",
      "   ---------------- ----------------------- 11/27 [sqlalchemy]\n",
      "   ---------------- ----------------------- 11/27 [sqlalchemy]\n",
      "   ---------------- ----------------------- 11/27 [sqlalchemy]\n",
      "   ---------------- ----------------------- 11/27 [sqlalchemy]\n",
      "   ---------------- ----------------------- 11/27 [sqlalchemy]\n",
      "   ---------------- ----------------------- 11/27 [sqlalchemy]\n",
      "   ---------------- ----------------------- 11/27 [sqlalchemy]\n",
      "   ---------------- ----------------------- 11/27 [sqlalchemy]\n",
      "   ---------------- ----------------------- 11/27 [sqlalchemy]\n",
      "   ---------------- ----------------------- 11/27 [sqlalchemy]\n",
      "   ---------------- ----------------------- 11/27 [sqlalchemy]\n",
      "   ---------------- ----------------------- 11/27 [sqlalchemy]\n",
      "   ---------------- ----------------------- 11/27 [sqlalchemy]\n",
      "   ---------------- ----------------------- 11/27 [sqlalchemy]\n",
      "   ---------------- ----------------------- 11/27 [sqlalchemy]\n",
      "   ---------------- ----------------------- 11/27 [sqlalchemy]\n",
      "   ---------------- ----------------------- 11/27 [sqlalchemy]\n",
      "   ---------------- ----------------------- 11/27 [sqlalchemy]\n",
      "   ---------------- ----------------------- 11/27 [sqlalchemy]\n",
      "   ---------------- ----------------------- 11/27 [sqlalchemy]\n",
      "   ---------------- ----------------------- 11/27 [sqlalchemy]\n",
      "   ---------------- ----------------------- 11/27 [sqlalchemy]\n",
      "   ---------------- ----------------------- 11/27 [sqlalchemy]\n",
      "   ---------------- ----------------------- 11/27 [sqlalchemy]\n",
      "   ---------------- ----------------------- 11/27 [sqlalchemy]\n",
      "   ---------------- ----------------------- 11/27 [sqlalchemy]\n",
      "   ---------------- ----------------------- 11/27 [sqlalchemy]\n",
      "   ---------------- ----------------------- 11/27 [sqlalchemy]\n",
      "   ---------------- ----------------------- 11/27 [sqlalchemy]\n",
      "   ---------------- ----------------------- 11/27 [sqlalchemy]\n",
      "   ---------------- ----------------------- 11/27 [sqlalchemy]\n",
      "   ---------------- ----------------------- 11/27 [sqlalchemy]\n",
      "   ---------------- ----------------------- 11/27 [sqlalchemy]\n",
      "   ---------------- ----------------------- 11/27 [sqlalchemy]\n",
      "   ----------------- ---------------------- 12/27 [rsa]\n",
      "   ----------------- ---------------------- 12/27 [rsa]\n",
      "   ----------------- ---------------------- 12/27 [rsa]\n",
      "   ----------------- ---------------------- 12/27 [rsa]\n",
      "   ----------------- ---------------------- 12/27 [rsa]\n",
      "   ----------------- ---------------------- 12/27 [rsa]\n",
      "   ----------------- ---------------------- 12/27 [rsa]\n",
      "   ----------------- ---------------------- 12/27 [rsa]\n",
      "   ----------------- ---------------------- 12/27 [rsa]\n",
      "   ------------------- -------------------- 13/27 [pyasn1-modules]\n",
      "   ------------------- -------------------- 13/27 [pyasn1-modules]\n",
      "   ------------------- -------------------- 13/27 [pyasn1-modules]\n",
      "   ------------------- -------------------- 13/27 [pyasn1-modules]\n",
      "   ------------------- -------------------- 13/27 [pyasn1-modules]\n",
      "   ------------------- -------------------- 13/27 [pyasn1-modules]\n",
      "   ------------------- -------------------- 13/27 [pyasn1-modules]\n",
      "   ------------------- -------------------- 13/27 [pyasn1-modules]\n",
      "   ------------------- -------------------- 13/27 [pyasn1-modules]\n",
      "   ------------------- -------------------- 13/27 [pyasn1-modules]\n",
      "   ------------------- -------------------- 13/27 [pyasn1-modules]\n",
      "   ------------------- -------------------- 13/27 [pyasn1-modules]\n",
      "   ------------------- -------------------- 13/27 [pyasn1-modules]\n",
      "   ------------------- -------------------- 13/27 [pyasn1-modules]\n",
      "   ------------------- -------------------- 13/27 [pyasn1-modules]\n",
      "   ------------------- -------------------- 13/27 [pyasn1-modules]\n",
      "   ------------------- -------------------- 13/27 [pyasn1-modules]\n",
      "   ------------------- -------------------- 13/27 [pyasn1-modules]\n",
      "   -------------------- ------------------- 14/27 [importlib_metadata]\n",
      "   -------------------- ------------------- 14/27 [importlib_metadata]\n",
      "   ---------------------- ----------------- 15/27 [graphql-relay]\n",
      "   ---------------------- ----------------- 15/27 [graphql-relay]\n",
      "   ----------------------- ---------------- 16/27 [Flask]\n",
      "   ----------------------- ---------------- 16/27 [Flask]\n",
      "   ----------------------- ---------------- 16/27 [Flask]\n",
      "   ----------------------- ---------------- 16/27 [Flask]\n",
      "   ------------------------- -------------- 17/27 [docker]\n",
      "   ------------------------- -------------- 17/27 [docker]\n",
      "   ------------------------- -------------- 17/27 [docker]\n",
      "   ------------------------- -------------- 17/27 [docker]\n",
      "   ------------------------- -------------- 17/27 [docker]\n",
      "   ------------------------- -------------- 17/27 [docker]\n",
      "   ------------------------- -------------- 17/27 [docker]\n",
      "   ------------------------- -------------- 17/27 [docker]\n",
      "   ------------------------- -------------- 17/27 [docker]\n",
      "   ------------------------- -------------- 17/27 [docker]\n",
      "   -------------------------- ------------- 18/27 [opentelemetry-api]\n",
      "   -------------------------- ------------- 18/27 [opentelemetry-api]\n",
      "   -------------------------- ------------- 18/27 [opentelemetry-api]\n",
      "   -------------------------- ------------- 18/27 [opentelemetry-api]\n",
      "   ---------------------------- ----------- 19/27 [graphene]\n",
      "   ---------------------------- ----------- 19/27 [graphene]\n",
      "   ---------------------------- ----------- 19/27 [graphene]\n",
      "   ---------------------------- ----------- 19/27 [graphene]\n",
      "   ---------------------------- ----------- 19/27 [graphene]\n",
      "   ---------------------------- ----------- 19/27 [graphene]\n",
      "   ---------------------------- ----------- 19/27 [graphene]\n",
      "   ---------------------------- ----------- 19/27 [graphene]\n",
      "   ---------------------------- ----------- 19/27 [graphene]\n",
      "   ---------------------------- ----------- 19/27 [graphene]\n",
      "   ---------------------------- ----------- 19/27 [graphene]\n",
      "   ---------------------------- ----------- 19/27 [graphene]\n",
      "   ---------------------------- ----------- 19/27 [graphene]\n",
      "   ---------------------------- ----------- 19/27 [graphene]\n",
      "   ----------------------------- ---------- 20/27 [google-auth]\n",
      "   ----------------------------- ---------- 20/27 [google-auth]\n",
      "   ----------------------------- ---------- 20/27 [google-auth]\n",
      "   ----------------------------- ---------- 20/27 [google-auth]\n",
      "   ----------------------------- ---------- 20/27 [google-auth]\n",
      "   ----------------------------- ---------- 20/27 [google-auth]\n",
      "   ----------------------------- ---------- 20/27 [google-auth]\n",
      "   ----------------------------- ---------- 20/27 [google-auth]\n",
      "   ----------------------------- ---------- 20/27 [google-auth]\n",
      "   ----------------------------- ---------- 20/27 [google-auth]\n",
      "   ------------------------------- -------- 21/27 [alembic]\n",
      "   ------------------------------- -------- 21/27 [alembic]\n",
      "   ------------------------------- -------- 21/27 [alembic]\n",
      "   ------------------------------- -------- 21/27 [alembic]\n",
      "   ------------------------------- -------- 21/27 [alembic]\n",
      "   ------------------------------- -------- 21/27 [alembic]\n",
      "   ------------------------------- -------- 21/27 [alembic]\n",
      "   ------------------------------- -------- 21/27 [alembic]\n",
      "   ------------------------------- -------- 21/27 [alembic]\n",
      "   ------------------------------- -------- 21/27 [alembic]\n",
      "   -------------------------- ------ 22/27 [opentelemetry-semantic-conventions]\n",
      "   -------------------------- ------ 22/27 [opentelemetry-semantic-conventions]\n",
      "   -------------------------- ------ 22/27 [opentelemetry-semantic-conventions]\n",
      "   -------------------------- ------ 22/27 [opentelemetry-semantic-conventions]\n",
      "   -------------------------- ------ 22/27 [opentelemetry-semantic-conventions]\n",
      "   -------------------------- ------ 22/27 [opentelemetry-semantic-conventions]\n",
      "   -------------------------- ------ 22/27 [opentelemetry-semantic-conventions]\n",
      "   -------------------------- ------ 22/27 [opentelemetry-semantic-conventions]\n",
      "   -------------------------- ------ 22/27 [opentelemetry-semantic-conventions]\n",
      "   -------------------------- ------ 22/27 [opentelemetry-semantic-conventions]\n",
      "   -------------------------- ------ 22/27 [opentelemetry-semantic-conventions]\n",
      "   -------------------------- ------ 22/27 [opentelemetry-semantic-conventions]\n",
      "   -------------------------- ------ 22/27 [opentelemetry-semantic-conventions]\n",
      "   -------------------------- ------ 22/27 [opentelemetry-semantic-conventions]\n",
      "   ---------------------------------- ----- 23/27 [databricks-sdk]\n",
      "   ---------------------------------- ----- 23/27 [databricks-sdk]\n",
      "   ---------------------------------- ----- 23/27 [databricks-sdk]\n",
      "   ---------------------------------- ----- 23/27 [databricks-sdk]\n",
      "   ---------------------------------- ----- 23/27 [databricks-sdk]\n",
      "   ---------------------------------- ----- 23/27 [databricks-sdk]\n",
      "   ---------------------------------- ----- 23/27 [databricks-sdk]\n",
      "   ---------------------------------- ----- 23/27 [databricks-sdk]\n",
      "   ---------------------------------- ----- 23/27 [databricks-sdk]\n",
      "   ---------------------------------- ----- 23/27 [databricks-sdk]\n",
      "   ---------------------------------- ----- 23/27 [databricks-sdk]\n",
      "   ---------------------------------- ----- 23/27 [databricks-sdk]\n",
      "   ---------------------------------- ----- 23/27 [databricks-sdk]\n",
      "   ---------------------------------- ----- 23/27 [databricks-sdk]\n",
      "   ---------------------------------- ----- 23/27 [databricks-sdk]\n",
      "   ---------------------------------- ----- 23/27 [databricks-sdk]\n",
      "   ----------------------------------- ---- 24/27 [opentelemetry-sdk]\n",
      "   ----------------------------------- ---- 24/27 [opentelemetry-sdk]\n",
      "   ----------------------------------- ---- 24/27 [opentelemetry-sdk]\n",
      "   ----------------------------------- ---- 24/27 [opentelemetry-sdk]\n",
      "   ----------------------------------- ---- 24/27 [opentelemetry-sdk]\n",
      "   ----------------------------------- ---- 24/27 [opentelemetry-sdk]\n",
      "   ------------------------------------- -- 25/27 [mlflow-skinny]\n",
      "   ------------------------------------- -- 25/27 [mlflow-skinny]\n",
      "   ------------------------------------- -- 25/27 [mlflow-skinny]\n",
      "   ------------------------------------- -- 25/27 [mlflow-skinny]\n",
      "   ------------------------------------- -- 25/27 [mlflow-skinny]\n",
      "   ------------------------------------- -- 25/27 [mlflow-skinny]\n",
      "   ------------------------------------- -- 25/27 [mlflow-skinny]\n",
      "   ------------------------------------- -- 25/27 [mlflow-skinny]\n",
      "   ------------------------------------- -- 25/27 [mlflow-skinny]\n",
      "   ------------------------------------- -- 25/27 [mlflow-skinny]\n",
      "   ------------------------------------- -- 25/27 [mlflow-skinny]\n",
      "   ------------------------------------- -- 25/27 [mlflow-skinny]\n",
      "   ------------------------------------- -- 25/27 [mlflow-skinny]\n",
      "   ------------------------------------- -- 25/27 [mlflow-skinny]\n",
      "   ------------------------------------- -- 25/27 [mlflow-skinny]\n",
      "   ------------------------------------- -- 25/27 [mlflow-skinny]\n",
      "   ------------------------------------- -- 25/27 [mlflow-skinny]\n",
      "   ------------------------------------- -- 25/27 [mlflow-skinny]\n",
      "   ------------------------------------- -- 25/27 [mlflow-skinny]\n",
      "   ------------------------------------- -- 25/27 [mlflow-skinny]\n",
      "   ------------------------------------- -- 25/27 [mlflow-skinny]\n",
      "   ------------------------------------- -- 25/27 [mlflow-skinny]\n",
      "   ------------------------------------- -- 25/27 [mlflow-skinny]\n",
      "   ------------------------------------- -- 25/27 [mlflow-skinny]\n",
      "   ------------------------------------- -- 25/27 [mlflow-skinny]\n",
      "   ------------------------------------- -- 25/27 [mlflow-skinny]\n",
      "   ------------------------------------- -- 25/27 [mlflow-skinny]\n",
      "   ------------------------------------- -- 25/27 [mlflow-skinny]\n",
      "   ------------------------------------- -- 25/27 [mlflow-skinny]\n",
      "   ------------------------------------- -- 25/27 [mlflow-skinny]\n",
      "   ------------------------------------- -- 25/27 [mlflow-skinny]\n",
      "   ------------------------------------- -- 25/27 [mlflow-skinny]\n",
      "   ------------------------------------- -- 25/27 [mlflow-skinny]\n",
      "   ------------------------------------- -- 25/27 [mlflow-skinny]\n",
      "   ------------------------------------- -- 25/27 [mlflow-skinny]\n",
      "   ------------------------------------- -- 25/27 [mlflow-skinny]\n",
      "   ------------------------------------- -- 25/27 [mlflow-skinny]\n",
      "   ------------------------------------- -- 25/27 [mlflow-skinny]\n",
      "   ------------------------------------- -- 25/27 [mlflow-skinny]\n",
      "   ------------------------------------- -- 25/27 [mlflow-skinny]\n",
      "   ------------------------------------- -- 25/27 [mlflow-skinny]\n",
      "   ------------------------------------- -- 25/27 [mlflow-skinny]\n",
      "   ------------------------------------- -- 25/27 [mlflow-skinny]\n",
      "   ------------------------------------- -- 25/27 [mlflow-skinny]\n",
      "   ------------------------------------- -- 25/27 [mlflow-skinny]\n",
      "   ------------------------------------- -- 25/27 [mlflow-skinny]\n",
      "   ------------------------------------- -- 25/27 [mlflow-skinny]\n",
      "   ------------------------------------- -- 25/27 [mlflow-skinny]\n",
      "   ------------------------------------- -- 25/27 [mlflow-skinny]\n",
      "   ------------------------------------- -- 25/27 [mlflow-skinny]\n",
      "   ------------------------------------- -- 25/27 [mlflow-skinny]\n",
      "   ------------------------------------- -- 25/27 [mlflow-skinny]\n",
      "   ------------------------------------- -- 25/27 [mlflow-skinny]\n",
      "   ------------------------------------- -- 25/27 [mlflow-skinny]\n",
      "   ------------------------------------- -- 25/27 [mlflow-skinny]\n",
      "   ------------------------------------- -- 25/27 [mlflow-skinny]\n",
      "   ------------------------------------- -- 25/27 [mlflow-skinny]\n",
      "   ------------------------------------- -- 25/27 [mlflow-skinny]\n",
      "   ------------------------------------- -- 25/27 [mlflow-skinny]\n",
      "   ------------------------------------- -- 25/27 [mlflow-skinny]\n",
      "   ------------------------------------- -- 25/27 [mlflow-skinny]\n",
      "   ------------------------------------- -- 25/27 [mlflow-skinny]\n",
      "   ------------------------------------- -- 25/27 [mlflow-skinny]\n",
      "   ------------------------------------- -- 25/27 [mlflow-skinny]\n",
      "   ------------------------------------- -- 25/27 [mlflow-skinny]\n",
      "   ------------------------------------- -- 25/27 [mlflow-skinny]\n",
      "   ------------------------------------- -- 25/27 [mlflow-skinny]\n",
      "   ------------------------------------- -- 25/27 [mlflow-skinny]\n",
      "   ------------------------------------- -- 25/27 [mlflow-skinny]\n",
      "   ------------------------------------- -- 25/27 [mlflow-skinny]\n",
      "   ------------------------------------- -- 25/27 [mlflow-skinny]\n",
      "   ------------------------------------- -- 25/27 [mlflow-skinny]\n",
      "   ------------------------------------- -- 25/27 [mlflow-skinny]\n",
      "   ------------------------------------- -- 25/27 [mlflow-skinny]\n",
      "   ------------------------------------- -- 25/27 [mlflow-skinny]\n",
      "   ------------------------------------- -- 25/27 [mlflow-skinny]\n",
      "   ------------------------------------- -- 25/27 [mlflow-skinny]\n",
      "   ------------------------------------- -- 25/27 [mlflow-skinny]\n",
      "   ------------------------------------- -- 25/27 [mlflow-skinny]\n",
      "   ------------------------------------- -- 25/27 [mlflow-skinny]\n",
      "   ------------------------------------- -- 25/27 [mlflow-skinny]\n",
      "   ------------------------------------- -- 25/27 [mlflow-skinny]\n",
      "   ------------------------------------- -- 25/27 [mlflow-skinny]\n",
      "   ------------------------------------- -- 25/27 [mlflow-skinny]\n",
      "   ------------------------------------- -- 25/27 [mlflow-skinny]\n",
      "   ------------------------------------- -- 25/27 [mlflow-skinny]\n",
      "   ------------------------------------- -- 25/27 [mlflow-skinny]\n",
      "   ------------------------------------- -- 25/27 [mlflow-skinny]\n",
      "   ------------------------------------- -- 25/27 [mlflow-skinny]\n",
      "   ------------------------------------- -- 25/27 [mlflow-skinny]\n",
      "   ------------------------------------- -- 25/27 [mlflow-skinny]\n",
      "   -------------------------------------- - 26/27 [mlflow]\n",
      "   -------------------------------------- - 26/27 [mlflow]\n",
      "   -------------------------------------- - 26/27 [mlflow]\n",
      "   -------------------------------------- - 26/27 [mlflow]\n",
      "   -------------------------------------- - 26/27 [mlflow]\n",
      "   -------------------------------------- - 26/27 [mlflow]\n",
      "   -------------------------------------- - 26/27 [mlflow]\n",
      "   -------------------------------------- - 26/27 [mlflow]\n",
      "   -------------------------------------- - 26/27 [mlflow]\n",
      "   -------------------------------------- - 26/27 [mlflow]\n",
      "   -------------------------------------- - 26/27 [mlflow]\n",
      "   -------------------------------------- - 26/27 [mlflow]\n",
      "   -------------------------------------- - 26/27 [mlflow]\n",
      "   -------------------------------------- - 26/27 [mlflow]\n",
      "   -------------------------------------- - 26/27 [mlflow]\n",
      "   -------------------------------------- - 26/27 [mlflow]\n",
      "   -------------------------------------- - 26/27 [mlflow]\n",
      "   -------------------------------------- - 26/27 [mlflow]\n",
      "   -------------------------------------- - 26/27 [mlflow]\n",
      "   -------------------------------------- - 26/27 [mlflow]\n",
      "   -------------------------------------- - 26/27 [mlflow]\n",
      "   -------------------------------------- - 26/27 [mlflow]\n",
      "   -------------------------------------- - 26/27 [mlflow]\n",
      "   -------------------------------------- - 26/27 [mlflow]\n",
      "   -------------------------------------- - 26/27 [mlflow]\n",
      "   -------------------------------------- - 26/27 [mlflow]\n",
      "   -------------------------------------- - 26/27 [mlflow]\n",
      "   -------------------------------------- - 26/27 [mlflow]\n",
      "   -------------------------------------- - 26/27 [mlflow]\n",
      "   -------------------------------------- - 26/27 [mlflow]\n",
      "   -------------------------------------- - 26/27 [mlflow]\n",
      "   -------------------------------------- - 26/27 [mlflow]\n",
      "   -------------------------------------- - 26/27 [mlflow]\n",
      "   -------------------------------------- - 26/27 [mlflow]\n",
      "   -------------------------------------- - 26/27 [mlflow]\n",
      "   -------------------------------------- - 26/27 [mlflow]\n",
      "   -------------------------------------- - 26/27 [mlflow]\n",
      "   -------------------------------------- - 26/27 [mlflow]\n",
      "   -------------------------------------- - 26/27 [mlflow]\n",
      "   -------------------------------------- - 26/27 [mlflow]\n",
      "   -------------------------------------- - 26/27 [mlflow]\n",
      "   -------------------------------------- - 26/27 [mlflow]\n",
      "   -------------------------------------- - 26/27 [mlflow]\n",
      "   -------------------------------------- - 26/27 [mlflow]\n",
      "   -------------------------------------- - 26/27 [mlflow]\n",
      "   -------------------------------------- - 26/27 [mlflow]\n",
      "   -------------------------------------- - 26/27 [mlflow]\n",
      "   -------------------------------------- - 26/27 [mlflow]\n",
      "   -------------------------------------- - 26/27 [mlflow]\n",
      "   -------------------------------------- - 26/27 [mlflow]\n",
      "   -------------------------------------- - 26/27 [mlflow]\n",
      "   -------------------------------------- - 26/27 [mlflow]\n",
      "   -------------------------------------- - 26/27 [mlflow]\n",
      "   -------------------------------------- - 26/27 [mlflow]\n",
      "   -------------------------------------- - 26/27 [mlflow]\n",
      "   -------------------------------------- - 26/27 [mlflow]\n",
      "   -------------------------------------- - 26/27 [mlflow]\n",
      "   -------------------------------------- - 26/27 [mlflow]\n",
      "   -------------------------------------- - 26/27 [mlflow]\n",
      "   -------------------------------------- - 26/27 [mlflow]\n",
      "   -------------------------------------- - 26/27 [mlflow]\n",
      "   -------------------------------------- - 26/27 [mlflow]\n",
      "   -------------------------------------- - 26/27 [mlflow]\n",
      "   -------------------------------------- - 26/27 [mlflow]\n",
      "   -------------------------------------- - 26/27 [mlflow]\n",
      "   -------------------------------------- - 26/27 [mlflow]\n",
      "   -------------------------------------- - 26/27 [mlflow]\n",
      "   -------------------------------------- - 26/27 [mlflow]\n",
      "   -------------------------------------- - 26/27 [mlflow]\n",
      "   -------------------------------------- - 26/27 [mlflow]\n",
      "   -------------------------------------- - 26/27 [mlflow]\n",
      "   -------------------------------------- - 26/27 [mlflow]\n",
      "   -------------------------------------- - 26/27 [mlflow]\n",
      "   ---------------------------------------- 27/27 [mlflow]\n",
      "\n",
      "Successfully installed Flask-3.1.1 Mako-1.3.10 alembic-1.16.4 cachetools-5.5.2 cloudpickle-3.1.1 databricks-sdk-0.58.0 docker-7.1.0 google-auth-2.40.3 graphene-3.4.3 graphql-core-3.2.6 graphql-relay-3.2.0 greenlet-3.2.3 importlib_metadata-8.7.0 itsdangerous-2.2.0 mlflow-3.1.1 mlflow-skinny-3.1.1 opentelemetry-api-1.35.0 opentelemetry-sdk-1.35.0 opentelemetry-semantic-conventions-0.56b0 pyasn1-0.6.1 pyasn1-modules-0.4.2 rsa-4.9.1 sqlalchemy-2.0.41 sqlparse-0.5.3 waitress-3.0.2 werkzeug-3.1.3 zipp-3.23.0\n"
     ]
    }
   ],
   "source": [
    "!pip install mlflow"
   ]
  },
  {
   "cell_type": "code",
   "execution_count": 6,
   "id": "519c5736",
   "metadata": {},
   "outputs": [],
   "source": [
    "\n",
    "\n",
    "import pandas as pd\n",
    "import numpy as np\n",
    "import mlflow\n",
    "import mlflow.sklearn\n",
    "from sklearn.model_selection import train_test_split\n",
    "from sklearn.preprocessing import LabelEncoder, StandardScaler\n",
    "from sklearn.metrics import accuracy_score\n",
    "from sklearn.linear_model import LogisticRegression\n",
    "from sklearn.ensemble import RandomForestClassifier\n",
    "from sklearn.neighbors import KNeighborsClassifier\n",
    "from sklearn.svm import SVC\n"
   ]
  },
  {
   "cell_type": "markdown",
   "id": "592e83f6",
   "metadata": {},
   "source": [
    "### Load Dataset"
   ]
  },
  {
   "cell_type": "code",
   "execution_count": 9,
   "id": "2b3ffb17",
   "metadata": {},
   "outputs": [],
   "source": [
    "df = pd.read_csv(\"data/crop_recommendation.csv\")\n",
    "X = df.drop(\"label\", axis=1)\n",
    "y = df[\"label\"]"
   ]
  },
  {
   "cell_type": "markdown",
   "id": "47a849f5",
   "metadata": {},
   "source": [
    "### Encode Lables"
   ]
  },
  {
   "cell_type": "code",
   "execution_count": 10,
   "id": "f90d7c67",
   "metadata": {},
   "outputs": [],
   "source": [
    "le = LabelEncoder()\n",
    "y_encoded = le.fit_transform(y)"
   ]
  },
  {
   "cell_type": "code",
   "execution_count": 15,
   "id": "7e6b1b8b",
   "metadata": {},
   "outputs": [],
   "source": [
    "X_train, X_test, y_train, y_test = train_test_split(X, y_encoded, test_size=0.2, random_state=42)\n"
   ]
  },
  {
   "cell_type": "markdown",
   "id": "23ba2603",
   "metadata": {},
   "source": [
    "### SVM is sensitive to the numbers so we normalize each feature so that all the features are in equal scale "
   ]
  },
  {
   "cell_type": "code",
   "execution_count": 16,
   "id": "63b10782",
   "metadata": {},
   "outputs": [],
   "source": [
    "scaler = StandardScaler()\n",
    "X_train_scaled = scaler.fit_transform(X_train)\n",
    "X_test_scaled = scaler.transform(X_test)"
   ]
  },
  {
   "cell_type": "markdown",
   "id": "77919c61",
   "metadata": {},
   "source": [
    "### store the models in a dict to use it later "
   ]
  },
  {
   "cell_type": "code",
   "execution_count": 17,
   "id": "507668d1",
   "metadata": {},
   "outputs": [],
   "source": [
    "models = {\n",
    "    \"LogisticRegression\": LogisticRegression(max_iter=200),\n",
    "    \"RandomForest\": RandomForestClassifier(),\n",
    "    \"KNN\": KNeighborsClassifier(),\n",
    "    \"SVM\": SVC(),\n",
    "}"
   ]
  },
  {
   "cell_type": "markdown",
   "id": "fbc5eb81",
   "metadata": {},
   "source": [
    "### Now we start tracking the experiment"
   ]
  },
  {
   "cell_type": "code",
   "execution_count": null,
   "id": "de61f767",
   "metadata": {},
   "outputs": [
    {
     "name": "stderr",
     "output_type": "stream",
     "text": [
      "2025/07/16 11:49:22 WARNING mlflow.models.model: `artifact_path` is deprecated. Please use `name` instead.\n"
     ]
    },
    {
     "name": "stdout",
     "output_type": "stream",
     "text": [
      "Training LogisticRegression...\n"
     ]
    },
    {
     "name": "stderr",
     "output_type": "stream",
     "text": [
      "2025/07/16 11:49:31 WARNING mlflow.models.model: Model logged without a signature and input example. Please set `input_example` parameter when logging the model to auto infer the model signature.\n"
     ]
    },
    {
     "name": "stdout",
     "output_type": "stream",
     "text": [
      "LogisticRegression Accuracy: 0.9636\n",
      "Training RandomForest...\n"
     ]
    },
    {
     "name": "stderr",
     "output_type": "stream",
     "text": [
      "2025/07/16 11:49:31 WARNING mlflow.models.model: `artifact_path` is deprecated. Please use `name` instead.\n",
      "2025/07/16 11:49:34 WARNING mlflow.models.model: Model logged without a signature and input example. Please set `input_example` parameter when logging the model to auto infer the model signature.\n",
      "2025/07/16 11:49:35 WARNING mlflow.models.model: `artifact_path` is deprecated. Please use `name` instead.\n"
     ]
    },
    {
     "name": "stdout",
     "output_type": "stream",
     "text": [
      "RandomForest Accuracy: 0.9932\n",
      "Training KNN...\n"
     ]
    },
    {
     "name": "stderr",
     "output_type": "stream",
     "text": [
      "2025/07/16 11:49:38 WARNING mlflow.models.model: Model logged without a signature and input example. Please set `input_example` parameter when logging the model to auto infer the model signature.\n",
      "2025/07/16 11:49:38 WARNING mlflow.models.model: `artifact_path` is deprecated. Please use `name` instead.\n"
     ]
    },
    {
     "name": "stdout",
     "output_type": "stream",
     "text": [
      "KNN Accuracy: 0.9568\n",
      "Training SVM...\n"
     ]
    },
    {
     "name": "stderr",
     "output_type": "stream",
     "text": [
      "2025/07/16 11:49:42 WARNING mlflow.models.model: Model logged without a signature and input example. Please set `input_example` parameter when logging the model to auto infer the model signature.\n"
     ]
    },
    {
     "name": "stdout",
     "output_type": "stream",
     "text": [
      "SVM Accuracy: 0.9682\n"
     ]
    }
   ],
   "source": [
    "mlflow.set_experiment(\"Crop Recommendation Model Comparison\")\n",
    "\n",
    "for model_name, model in models.items():\n",
    "    with mlflow.start_run(run_name=model_name):\n",
    "        print(f\"Training {model_name}...\")\n",
    "\n",
    "        # Use scaled data for some models\n",
    "        if model_name in [\"KNN\", \"SVM\", \"LogisticRegression\"]:\n",
    "            model.fit(X_train_scaled, y_train)\n",
    "            predictions = model.predict(X_test_scaled)\n",
    "        else:\n",
    "            model.fit(X_train, y_train)\n",
    "            predictions = model.predict(X_test)\n",
    "        # Calculate accuracy\n",
    "        acc = accuracy_score(y_test, predictions)\n",
    "\n",
    "        # Log the parameters, metrics, and model\n",
    "        mlflow.log_param(\"model_name\", model_name)\n",
    "        mlflow.log_metric(\"accuracy\", acc)\n",
    "        mlflow.sklearn.log_model(model, f\"{model_name}_model\")\n",
    "\n",
    "        print(f\"{model_name} Accuracy: {acc:.4f}\")"
   ]
  },
  {
   "cell_type": "markdown",
   "id": "5f189b41",
   "metadata": {},
   "source": [
    "### Opening to see the trackings"
   ]
  },
  {
   "cell_type": "code",
   "execution_count": 20,
   "id": "a695a8a4",
   "metadata": {},
   "outputs": [
    {
     "name": "stdout",
     "output_type": "stream",
     "text": [
      "Collecting pyngrok\n",
      "  Downloading pyngrok-7.2.12-py3-none-any.whl.metadata (9.4 kB)\n",
      "Requirement already satisfied: nest_asyncio in c:\\users\\aswat\\appdata\\roaming\\python\\python313\\site-packages (1.6.0)\n",
      "Requirement already satisfied: PyYAML>=5.1 in c:\\users\\aswat\\appdata\\local\\programs\\python\\python313\\lib\\site-packages (from pyngrok) (6.0.2)\n",
      "Downloading pyngrok-7.2.12-py3-none-any.whl (26 kB)\n",
      "Installing collected packages: pyngrok\n",
      "Successfully installed pyngrok-7.2.12\n"
     ]
    }
   ],
   "source": [
    "!pip install pyngrok nest_asyncio"
   ]
  },
  {
   "cell_type": "code",
   "execution_count": null,
   "id": "2be22e27",
   "metadata": {},
   "outputs": [
    {
     "name": "stdout",
     "output_type": "stream",
     "text": [
      "Downloading ngrok ...\n",
      "Downloading ngrok: 0%\n",
      "Downloading ngrok: 1%\n",
      "Downloading ngrok: 2%\n",
      "Downloading ngrok: 3%\n",
      "Downloading ngrok: 4%\n",
      "Downloading ngrok: 5%\n",
      "Downloading ngrok: 6%\n",
      "Downloading ngrok: 7%\n",
      "Downloading ngrok: 8%\n",
      "Downloading ngrok: 9%\n",
      "Downloading ngrok: 10%\n",
      "Downloading ngrok: 11%\n",
      "Downloading ngrok: 12%\n",
      "Downloading ngrok: 13%\n",
      "Downloading ngrok: 14%\n",
      "Downloading ngrok: 15%\n",
      "Downloading ngrok: 16%\n",
      "Downloading ngrok: 17%\n",
      "Downloading ngrok: 18%\n",
      "Downloading ngrok: 19%\n",
      "Downloading ngrok: 20%\n",
      "Downloading ngrok: 21%\n",
      "Downloading ngrok: 22%\n",
      "Downloading ngrok: 23%\n",
      "Downloading ngrok: 24%\n",
      "Downloading ngrok: 25%\n",
      "Downloading ngrok: 26%\n",
      "Downloading ngrok: 27%\n",
      "Downloading ngrok: 28%\n",
      "Downloading ngrok: 29%\n",
      "Downloading ngrok: 30%\n",
      "Downloading ngrok: 31%\n",
      "Downloading ngrok: 32%\n",
      "Downloading ngrok: 33%\n",
      "Downloading ngrok: 34%\n",
      "Downloading ngrok: 35%\n",
      "Downloading ngrok: 36%\n",
      "Downloading ngrok: 37%\n",
      "Downloading ngrok: 38%\n",
      "Downloading ngrok: 39%\n",
      "Downloading ngrok: 40%\n",
      "Downloading ngrok: 41%\n",
      "Downloading ngrok: 42%\n",
      "Downloading ngrok: 43%\n",
      "Downloading ngrok: 44%\n",
      "Downloading ngrok: 45%\n",
      "Downloading ngrok: 46%\n",
      "Downloading ngrok: 47%\n",
      "Downloading ngrok: 48%\n",
      "Downloading ngrok: 49%\n",
      "Downloading ngrok: 50%\n",
      "Downloading ngrok: 51%\n",
      "Downloading ngrok: 52%\n",
      "Downloading ngrok: 53%\n",
      "Downloading ngrok: 54%\n",
      "Downloading ngrok: 55%\n",
      "Downloading ngrok: 56%\n",
      "Downloading ngrok: 57%\n",
      "Downloading ngrok: 58%\n",
      "Downloading ngrok: 59%\n",
      "Downloading ngrok: 60%\n",
      "Downloading ngrok: 61%\n",
      "Downloading ngrok: 62%\n",
      "Downloading ngrok: 63%\n",
      "Downloading ngrok: 64%\n",
      "Downloading ngrok: 65%\n",
      "Downloading ngrok: 66%\n",
      "Downloading ngrok: 67%\n",
      "Downloading ngrok: 68%\n",
      "Downloading ngrok: 69%\n",
      "Downloading ngrok: 70%\n",
      "Downloading ngrok: 71%\n",
      "Downloading ngrok: 72%\n",
      "Downloading ngrok: 73%\n",
      "Downloading ngrok: 74%\n",
      "Downloading ngrok: 75%\n",
      "Downloading ngrok: 76%\n",
      "Downloading ngrok: 77%\n",
      "Downloading ngrok: 78%\n",
      "Downloading ngrok: 79%\n",
      "Downloading ngrok: 80%\n",
      "Downloading ngrok: 81%\n",
      "Downloading ngrok: 82%\n",
      "Downloading ngrok: 83%\n",
      "Downloading ngrok: 84%\n",
      "Downloading ngrok: 85%\n",
      "Downloading ngrok: 86%\n",
      "Downloading ngrok: 87%\n",
      "Downloading ngrok: 88%\n",
      "Downloading ngrok: 89%\n",
      "Downloading ngrok: 90%\n",
      "Downloading ngrok: 91%\n",
      "Downloading ngrok: 92%\n",
      "Downloading ngrok: 93%\n",
      "Downloading ngrok: 94%\n",
      "Downloading ngrok: 95%\n",
      "Downloading ngrok: 96%\n",
      "Downloading ngrok: 97%\n",
      "Downloading ngrok: 98%\n",
      "Downloading ngrok: 99%\n",
      "Downloading ngrok: 100%\n",
      "                                                                                                    \n",
      "Installing ngrok ... \n",
      "                                                                                                    \n",
      "Authtoken saved to configuration file: C:\\Users\\aswat\\AppData\\Local/ngrok/ngrok.yml\n"
     ]
    }
   ],
   "source": [
    "# ! ngrok config add-authtoken 2tnPKddmbkaQSclJXqef9Eu81CA_4g2sL2op19t9JGXhdTTB9"
   ]
  },
  {
   "cell_type": "markdown",
   "id": "671a2e05",
   "metadata": {},
   "source": [
    "### Start the server for MLFlow"
   ]
  },
  {
   "cell_type": "code",
   "execution_count": null,
   "id": "f6530b49",
   "metadata": {},
   "outputs": [
    {
     "name": "stderr",
     "output_type": "stream",
     "text": [
      "2025/07/16 11:49:22 WARNING mlflow.models.model: `artifact_path` is deprecated. Please use `name` instead.\n"
     ]
    },
    {
     "name": "stdout",
     "output_type": "stream",
     "text": [
      "Training LogisticRegression...\n"
     ]
    },
    {
     "name": "stderr",
     "output_type": "stream",
     "text": [
      "2025/07/16 11:49:31 WARNING mlflow.models.model: Model logged without a signature and input example. Please set `input_example` parameter when logging the model to auto infer the model signature.\n"
     ]
    },
    {
     "name": "stdout",
     "output_type": "stream",
     "text": [
      "LogisticRegression Accuracy: 0.9636\n",
      "Training RandomForest...\n"
     ]
    },
    {
     "name": "stderr",
     "output_type": "stream",
     "text": [
      "2025/07/16 11:49:31 WARNING mlflow.models.model: `artifact_path` is deprecated. Please use `name` instead.\n",
      "2025/07/16 11:49:34 WARNING mlflow.models.model: Model logged without a signature and input example. Please set `input_example` parameter when logging the model to auto infer the model signature.\n",
      "2025/07/16 11:49:35 WARNING mlflow.models.model: `artifact_path` is deprecated. Please use `name` instead.\n"
     ]
    },
    {
     "name": "stdout",
     "output_type": "stream",
     "text": [
      "RandomForest Accuracy: 0.9932\n",
      "Training KNN...\n"
     ]
    },
    {
     "name": "stderr",
     "output_type": "stream",
     "text": [
      "2025/07/16 11:49:38 WARNING mlflow.models.model: Model logged without a signature and input example. Please set `input_example` parameter when logging the model to auto infer the model signature.\n",
      "2025/07/16 11:49:38 WARNING mlflow.models.model: `artifact_path` is deprecated. Please use `name` instead.\n"
     ]
    },
    {
     "name": "stdout",
     "output_type": "stream",
     "text": [
      "KNN Accuracy: 0.9568\n",
      "Training SVM...\n"
     ]
    },
    {
     "name": "stderr",
     "output_type": "stream",
     "text": [
      "2025/07/16 11:49:42 WARNING mlflow.models.model: Model logged without a signature and input example. Please set `input_example` parameter when logging the model to auto infer the model signature.\n"
     ]
    },
    {
     "name": "stdout",
     "output_type": "stream",
     "text": [
      "SVM Accuracy: 0.9682\n"
     ]
    }
   ],
   "source": [
    "mlflow.set_experiment(\"Crop Recommendation Model Comparison\")\n",
    "\n",
    "for model_name, model in models.items():\n",
    "    with mlflow.start_run(run_name=model_name):\n",
    "        print(f\"Training {model_name}...\")\n",
    "\n",
    "        # Use scaled data for some models\n",
    "        if model_name in [\"KNN\", \"SVM\", \"LogisticRegression\"]:\n",
    "            model.fit(X_train_scaled, y_train)\n",
    "            predictions = model.predict(X_test_scaled)\n",
    "        else:\n",
    "            model.fit(X_train, y_train)\n",
    "            predictions = model.predict(X_test)\n",
    "\n",
    "        acc = accuracy_score(y_test, predictions)\n",
    "\n",
    "        # Log the parameters, metrics, and model\n",
    "        mlflow.log_param(\"model_name\", model_name)\n",
    "        mlflow.log_metric(\"accuracy\", acc)\n",
    "        mlflow.sklearn.log_model(model, f\"{model_name}_model\")\n",
    "\n",
    "        print(f\"{model_name} Accuracy: {acc:.4f}\")"
   ]
  },
  {
   "cell_type": "code",
   "execution_count": null,
   "id": "d9b71f0c",
   "metadata": {},
   "outputs": [
    {
     "name": "stdout",
     "output_type": "stream",
     "text": [
      "MLflow Tracking UI: NgrokTunnel: \"https://6e6a974c304d.ngrok-free.app\" -> \"http://localhost:5000\"\n"
     ]
    },
    {
     "name": "stderr",
     "output_type": "stream",
     "text": [
      "t=2025-07-16T12:19:24+0530 lvl=warn msg=\"failed to check for update\" obj=updater err=\"Post \\\"https://update.equinox.io/check\\\": context deadline exceeded\"\n"
     ]
    },
    {
     "name": "stdout",
     "output_type": "stream",
     "text": [
      "^C\n"
     ]
    },
    {
     "name": "stderr",
     "output_type": "stream",
     "text": [
      "t=2025-07-16T12:28:28+0530 lvl=eror msg=\"heartbeat timeout, terminating session\" obj=tunnels.session obj=csess id=9e10282ae9e2 clientid=f18cf2971c018b3ed31c3a7cbc9a4776\n",
      "t=2025-07-16T12:28:28+0530 lvl=eror msg=\"session closed, starting reconnect loop\" obj=tunnels.session obj=csess id=9ea07eb55d8a err=\"session closed\"\n",
      "t=2025-07-16T12:28:53+0530 lvl=eror msg=\"heartbeat timeout, terminating session\" obj=tunnels.session obj=csess id=36a2943a68e5\n",
      "t=2025-07-16T12:28:53+0530 lvl=eror msg=\"failed to reconnect session\" obj=tunnels.session err=\"failed to send authentication request: session closed\"\n",
      "t=2025-07-16T12:29:19+0530 lvl=eror msg=\"heartbeat timeout, terminating session\" obj=tunnels.session obj=csess id=e4c97a1315fa\n",
      "t=2025-07-16T12:29:19+0530 lvl=eror msg=\"failed to reconnect session\" obj=tunnels.session err=\"failed to send authentication request: session closed\"\n"
     ]
    }
   ],
   "source": [
    "\n",
    "from pyngrok import ngrok\n",
    "import nest_asyncio\n",
    "\n",
    "nest_asyncio.apply()\n",
    "\n",
    "# Start MLflow server\n",
    "mlflow_port = 5000\n",
    "\n",
    "# Expose port 5000 using ngrok\n",
    "public_url = ngrok.connect(mlflow_port)\n",
    "print(f\"MLflow Tracking UI: {public_url}\")\n",
    "\n",
    "# Launch MLflow UI\n",
    "!mlflow ui --port 5000 --host 0.0.0.0\n"
   ]
  },
  {
   "cell_type": "markdown",
   "id": "cd4e9966",
   "metadata": {},
   "source": [
    "### MLFlow link\n",
    "\n",
    "https://6e6a974c304d.ngrok-free.app/#/compare-runs?runs=[%2237a63c6edd8742e888565f98a367b344%22,%22b480b4dc46574e29b9f6d07649fc1f1a%22,%22882000d9e1004602b151964c1810dd2f%22,%225c65fa8e79e6453abea464c4dccceefd%22]&experiments=[%22799976923787763083%22]"
   ]
  },
  {
   "attachments": {
    "image.png": {
     "image/png": "[encoded data removed]"
    }
   },
   "cell_type": "markdown",
   "id": "7b983dab",
   "metadata": {},
   "source": [
    "### Output form MLFlow\n",
    "\n",
    "\n",
    "![image.png](attachment:image.png)"
   ]
  },
  {
   "cell_type": "markdown",
   "id": "498f7be7",
   "metadata": {},
   "source": [
    "### As we can see RandomForest has the most accuracy so we can package the RandomForest to use it in gradio"
   ]
  },
  {
   "cell_type": "code",
   "execution_count": 29,
   "id": "7fc2b18b",
   "metadata": {},
   "outputs": [],
   "source": [
    "import pickle\n",
    "\n",
    "# Save the trained Random Forest model\n",
    "with open(\"random_forest_model.pkl\", \"wb\") as f:\n",
    "    pickle.dump(models[\"RandomForest\"], f)\n"
   ]
  },
  {
   "cell_type": "markdown",
   "id": "9eedfc26",
   "metadata": {},
   "source": [
    "### Implement Gradio"
   ]
  },
  {
   "cell_type": "code",
   "execution_count": 30,
   "id": "5ee2a684",
   "metadata": {},
   "outputs": [
    {
     "name": "stderr",
     "output_type": "stream",
     "text": [
      "c:\\Users\\aswat\\AppData\\Local\\Programs\\Python\\Python313\\Lib\\site-packages\\tqdm\\auto.py:21: TqdmWarning: IProgress not found. Please update jupyter and ipywidgets. See https://ipywidgets.readthedocs.io/en/stable/user_install.html\n",
      "  from .autonotebook import tqdm as notebook_tqdm\n"
     ]
    },
    {
     "name": "stdout",
     "output_type": "stream",
     "text": [
      "* Running on local URL:  http://127.0.0.1:7860\n",
      "* To create a public link, set `share=True` in `launch()`.\n"
     ]
    },
    {
     "data": {
      "text/html": [
       "<div><iframe src=\"http://127.0.0.1:7860/\" width=\"100%\" height=\"500\" allow=\"autoplay; camera; microphone; clipboard-read; clipboard-write;\" frameborder=\"0\" allowfullscreen></iframe></div>"
      ],
      "text/plain": [
       "<IPython.core.display.HTML object>"
      ]
     },
     "metadata": {},
     "output_type": "display_data"
    },
    {
     "data": {
      "text/plain": []
     },
     "execution_count": 30,
     "metadata": {},
     "output_type": "execute_result"
    }
   ],
   "source": [
    "import gradio as gr\n",
    "import pickle\n",
    "import numpy as np\n",
    "\n",
    "# Load the trained model\n",
    "with open(\"random_forest_model.pkl\", \"rb\") as f:\n",
    "    model = pickle.load(f)\n",
    "\n",
    "# Define the prediction function\n",
    "def predict_crop(N, P, K, temperature, humidity, ph, rainfall):\n",
    "    input_data = np.array([[N, P, K, temperature, humidity, ph, rainfall]])\n",
    "    prediction = model.predict(input_data)\n",
    "    return prediction[0]\n",
    "\n",
    "# Gradio interface\n",
    "iface = gr.Interface(\n",
    "    fn=predict_crop,\n",
    "    inputs=[\n",
    "        gr.Number(label=\"Nitrogen (N)\"),\n",
    "        gr.Number(label=\"Phosphorus (P)\"),\n",
    "        gr.Number(label=\"Potassium (K)\"),\n",
    "        gr.Number(label=\"Temperature (°C)\"),\n",
    "        gr.Number(label=\"Humidity (%)\"),\n",
    "        gr.Number(label=\"pH\"),\n",
    "        gr.Number(label=\"Rainfall (mm)\")\n",
    "    ],\n",
    "    outputs=gr.Text(label=\"Recommended Crop\"),\n",
    "    title=\"Crop Recommendation using Random Forest\",\n",
    "    description=\"Enter the soil and climate values to predict the best crop to grow.\"\n",
    ")\n",
    "\n",
    "iface.launch()\n"
   ]
  },
  {
   "cell_type": "code",
   "execution_count": null,
   "id": "c15b2b07",
   "metadata": {},
   "outputs": [],
   "source": []
  }
 ],
 "metadata": {
  "kernelspec": {
   "display_name": "Python 3",
   "language": "python",
   "name": "python3"
  },
  "language_info": {
   "codemirror_mode": {
    "name": "ipython",
    "version": 3
   },
   "file_extension": ".py",
   "mimetype": "text/x-python",
   "name": "python",
   "nbconvert_exporter": "python",
   "pygments_lexer": "ipython3",
   "version": "3.13.5"
  }
 },
 "nbformat": 4,
 "nbformat_minor": 5
}
